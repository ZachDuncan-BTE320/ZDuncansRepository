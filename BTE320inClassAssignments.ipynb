{
  "nbformat": 4,
  "nbformat_minor": 0,
  "metadata": {
    "colab": {
      "provenance": [],
      "authorship_tag": "ABX9TyM7fT8feDclaveg+enzvZk9",
      "include_colab_link": true
    },
    "kernelspec": {
      "name": "python3",
      "display_name": "Python 3"
    },
    "language_info": {
      "name": "python"
    }
  },
  "cells": [
    {
      "cell_type": "markdown",
      "metadata": {
        "id": "view-in-github",
        "colab_type": "text"
      },
      "source": [
        "<a href=\"https://colab.research.google.com/github/ZachDuncan-BTE320/ZDuncansRepository/blob/main/BTE320inClassAssignments.ipynb\" target=\"_parent\"><img src=\"https://colab.research.google.com/assets/colab-badge.svg\" alt=\"Open In Colab\"/></a>"
      ]
    },
    {
      "cell_type": "markdown",
      "source": [
        "Surface Area of a Cylinder"
      ],
      "metadata": {
        "id": "-6W4X-0pmxOq"
      }
    },
    {
      "cell_type": "code",
      "execution_count": null,
      "metadata": {
        "colab": {
          "base_uri": "https://localhost:8080/"
        },
        "id": "efQK3ZNxkdZG",
        "outputId": "97ca1227-9752-439e-e4c1-fb6b23b507a5"
      },
      "outputs": [
        {
          "output_type": "stream",
          "name": "stdout",
          "text": [
            "244.92000000000002\n"
          ]
        }
      ],
      "source": [
        "#calculate surface area of cylinder\n",
        "pi=3.14\n",
        "r=3 #radius\n",
        "h=10 #height\n",
        "\n",
        "#calculation\n",
        "SurfaceArea=2*pi*r**2+2*pi*r*h\n",
        "#print result\n",
        "print(SurfaceArea)"
      ]
    },
    {
      "cell_type": "code",
      "source": [
        "print('rock ... paper ... scissors ... shoot!')\n",
        "p1 = input('Player 1 Choose r->rock, p->paper, or s->scissors: ')\n",
        "p2 = input('Player 2 Choose r->rock, p->paper, or s->scissors: ')\n",
        "\n",
        "if p1 == p2:\n",
        "  print('Draw')\n",
        "elif p1 == 'r' and p2 == 'p':\n",
        "  print('p2 wins!')\n",
        "elif p1 == 'r' and p2 == 's':\n",
        "  print('p1 wins!')\n",
        "elif p1 == 'p' and p2 == 'r':\n",
        "  print('p1 wins!')\n",
        "elif p1 == 'p' and p2 == 's':\n",
        "  print('p2 wins!')\n",
        "elif p1 == 's' and p2 == 'r':\n",
        "  print('p2 wins!')\n",
        "elif p1 == 's' and p2 == 'p':\n",
        "  print('p1 wins!')\n",
        "else:\n",
        "  print('error')\n",
        "\n",
        "\n"
      ],
      "metadata": {
        "colab": {
          "base_uri": "https://localhost:8080/"
        },
        "id": "gh4VbdjmsR5I",
        "outputId": "d8453294-c97e-41d7-cc4b-d38098d15dc4"
      },
      "execution_count": 7,
      "outputs": [
        {
          "output_type": "stream",
          "name": "stdout",
          "text": [
            "rock ... paper ... scissors ... shoot!\n",
            "Player 1 Choose r->rock, p->paper, or s->scissors: s\n",
            "Player 2 Choose r->rock, p->paper, or s->scissors: s\n",
            "Draw\n"
          ]
        }
      ]
    }
  ]
}