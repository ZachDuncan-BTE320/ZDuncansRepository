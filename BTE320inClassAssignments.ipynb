{
  "nbformat": 4,
  "nbformat_minor": 0,
  "metadata": {
    "colab": {
      "provenance": [],
      "authorship_tag": "ABX9TyM6jYG0+iT2FVfbsVvXhdE5",
      "include_colab_link": true
    },
    "kernelspec": {
      "name": "python3",
      "display_name": "Python 3"
    },
    "language_info": {
      "name": "python"
    }
  },
  "cells": [
    {
      "cell_type": "markdown",
      "metadata": {
        "id": "view-in-github",
        "colab_type": "text"
      },
      "source": [
        "<a href=\"https://colab.research.google.com/github/ZachDuncan-BTE320/ZDuncansRepository/blob/main/BTE320inClassAssignments.ipynb\" target=\"_parent\"><img src=\"https://colab.research.google.com/assets/colab-badge.svg\" alt=\"Open In Colab\"/></a>"
      ]
    },
    {
      "cell_type": "markdown",
      "source": [
        "Surface Area of a Cylinder"
      ],
      "metadata": {
        "id": "-6W4X-0pmxOq"
      }
    },
    {
      "cell_type": "code",
      "execution_count": null,
      "metadata": {
        "colab": {
          "base_uri": "https://localhost:8080/"
        },
        "id": "efQK3ZNxkdZG",
        "outputId": "97ca1227-9752-439e-e4c1-fb6b23b507a5"
      },
      "outputs": [
        {
          "output_type": "stream",
          "name": "stdout",
          "text": [
            "244.92000000000002\n"
          ]
        }
      ],
      "source": [
        "#calculate surface area of cylinder\n",
        "pi=3.14\n",
        "r=3 #radius\n",
        "h=10 #height\n",
        "\n",
        "#calculation\n",
        "SurfaceArea=2*pi*r**2+2*pi*r*h\n",
        "#print result\n",
        "print(SurfaceArea)"
      ]
    },
    {
      "cell_type": "code",
      "source": [
        "print('rock ... paper ... scissors ... shoot!')\n",
        "p1 = input('Player 1 Choose r->rock, p->paper, or s->scissors: ')\n",
        "p2 = input('Player 2 Choose r->rock, p->paper, or s->scissors: ')\n",
        "\n",
        "if p1 == p2:\n",
        "  print('Draw')\n",
        "elif p1 == 'r' and p2 == 'p':\n",
        "  print('p2 wins!')\n",
        "elif p1 == 'r' and p2 == 's':\n",
        "  print('p1 wins!')\n",
        "elif p1 == 'p' and p2 == 'r':\n",
        "  print('p1 wins!')\n",
        "elif p1 == 'p' and p2 == 's':\n",
        "  print('p2 wins!')\n",
        "elif p1 == 's' and p2 == 'r':\n",
        "  print('p2 wins!')\n",
        "elif p1 == 's' and p2 == 'p':\n",
        "  print('p1 wins!')\n",
        "else:\n",
        "  print('error')\n",
        "\n",
        "\n"
      ],
      "metadata": {
        "colab": {
          "base_uri": "https://localhost:8080/"
        },
        "id": "gh4VbdjmsR5I",
        "outputId": "d8453294-c97e-41d7-cc4b-d38098d15dc4"
      },
      "execution_count": null,
      "outputs": [
        {
          "output_type": "stream",
          "name": "stdout",
          "text": [
            "rock ... paper ... scissors ... shoot!\n",
            "Player 1 Choose r->rock, p->paper, or s->scissors: s\n",
            "Player 2 Choose r->rock, p->paper, or s->scissors: s\n",
            "Draw\n"
          ]
        }
      ]
    },
    {
      "cell_type": "code",
      "source": [
        "x = float(input('Input a number: '))\n",
        "opp = input('Input a Mathematical Operation (+, -, *, /, or **): ')\n",
        "y = float(input('Input a number: '))\n",
        "\n",
        "if opp == '+':\n",
        "  calc = x+y\n",
        "elif opp == '-':\n",
        "  calc = x-y\n",
        "elif opp == '*':\n",
        "  calc = x*y\n",
        "elif opp == '/':\n",
        "  calc = x/y\n",
        "elif opp == '**':\n",
        "  calc = x**y\n",
        "else:\n",
        "  print('Error')\n",
        "\n",
        "print(calc)\n",
        "\n"
      ],
      "metadata": {
        "colab": {
          "base_uri": "https://localhost:8080/"
        },
        "id": "thvloUmL5FiA",
        "outputId": "50699eea-62d4-4dab-b9ee-8289dba1d3f7"
      },
      "execution_count": null,
      "outputs": [
        {
          "output_type": "stream",
          "name": "stdout",
          "text": [
            "Input a number: 5\n",
            "Input a Mathematical Operation (+, -, *, /, or **): **\n",
            "Input a number: 2\n",
            "25.0\n"
          ]
        }
      ]
    },
    {
      "cell_type": "code",
      "source": [
        "play = input('Do you want to play? ')\n",
        "\n",
        "while play == 'Yes':\n",
        "\n",
        "  print('rock ... paper ... scissors ... shoot!')\n",
        "  p1 = input('Player 1 Choose r->rock, p->paper, or s->scissors: ')\n",
        "  p2 = input('Player 2 Choose r->rock, p->paper, or s->scissors: ')\n",
        "\n",
        "  if p1 == p2:\n",
        "    print('Draw')\n",
        "  elif p1 == 'r' and p2 == 'p':\n",
        "    print('p2 wins!')\n",
        "  elif p1 == 'r' and p2 == 's':\n",
        "    print('p1 wins!')\n",
        "  elif p1 == 'p' and p2 == 'r':\n",
        "    print('p1 wins!')\n",
        "  elif p1 == 'p' and p2 == 's':\n",
        "    print('p2 wins!')\n",
        "  elif p1 == 's' and p2 == 'r':\n",
        "    print('p2 wins!')\n",
        "  elif p1 == 's' and p2 == 'p':\n",
        "    print('p1 wins!')\n",
        "  else:\n",
        "    print('error')\n",
        "\n",
        "  play = input('Do you want to play again? ')"
      ],
      "metadata": {
        "colab": {
          "base_uri": "https://localhost:8080/"
        },
        "id": "EcMfdpwezGoe",
        "outputId": "870f27f3-8067-43ff-dbab-49065dc05969"
      },
      "execution_count": 2,
      "outputs": [
        {
          "name": "stdout",
          "output_type": "stream",
          "text": [
            "Do you want to play? Yes\n",
            "rock ... paper ... scissors ... shoot!\n",
            "Player 1 Choose r->rock, p->paper, or s->scissors: r\n",
            "Player 2 Choose r->rock, p->paper, or s->scissors: p\n",
            "p2 wins!\n",
            "Do you want to play again? Yes\n",
            "rock ... paper ... scissors ... shoot!\n",
            "Player 1 Choose r->rock, p->paper, or s->scissors: p\n",
            "Player 2 Choose r->rock, p->paper, or s->scissors: s\n",
            "p2 wins!\n",
            "Do you want to play again? Nah\n"
          ]
        }
      ]
    },
    {
      "cell_type": "code",
      "source": [
        "import random\n",
        "\n",
        "play = input('Do you want to play? ')\n",
        "\n",
        "while play == 'Yes':\n",
        "\n",
        "  print('rock ... paper ... scissors ... shoot!')\n",
        "  p1 = input('Player 1 Choose r->rock, p->paper, or s->scissors: ')\n",
        "  computer = random.choice(['r', 'p', 's'])\n",
        "  print(f'computer chose {computer}')\n",
        "\n",
        "  if p1 == computer:\n",
        "    print('Draw')\n",
        "  elif p1 == 'r' and computer == 'p':\n",
        "    print('computer wins!')\n",
        "  elif p1 == 'r' and computer == 's':\n",
        "    print('p1 wins!')\n",
        "  elif p1 == 'p' and computer == 'r':\n",
        "    print('p1 wins!')\n",
        "  elif p1 == 'p' and computer == 's':\n",
        "    print('computer wins!')\n",
        "  elif p1 == 's' and computer == 'r':\n",
        "    print('computer wins!')\n",
        "  elif p1 == 's' and computer == 'p':\n",
        "    print('p1 wins!')\n",
        "  else:\n",
        "    print('error')\n",
        "\n",
        "  play = input('Do you want to play again? ')"
      ],
      "metadata": {
        "colab": {
          "base_uri": "https://localhost:8080/"
        },
        "id": "FIZNNnah2-co",
        "outputId": "f607f776-74be-41be-d485-9c04dd84a763"
      },
      "execution_count": 4,
      "outputs": [
        {
          "name": "stdout",
          "output_type": "stream",
          "text": [
            "Do you want to play? Yes\n",
            "rock ... paper ... scissors ... shoot!\n",
            "Player 1 Choose r->rock, p->paper, or s->scissors: r\n",
            "computer chose r\n",
            "Draw\n",
            "Do you want to play again? Yes\n",
            "rock ... paper ... scissors ... shoot!\n",
            "Player 1 Choose r->rock, p->paper, or s->scissors: p\n",
            "computer chose p\n",
            "Draw\n",
            "Do you want to play again? Yes\n",
            "rock ... paper ... scissors ... shoot!\n",
            "Player 1 Choose r->rock, p->paper, or s->scissors: s\n",
            "computer chose r\n",
            "computer wins!\n",
            "Do you want to play again? Yes\n",
            "rock ... paper ... scissors ... shoot!\n",
            "Player 1 Choose r->rock, p->paper, or s->scissors: p\n",
            "computer chose p\n",
            "Draw\n",
            "Do you want to play again? Yes\n",
            "rock ... paper ... scissors ... shoot!\n",
            "Player 1 Choose r->rock, p->paper, or s->scissors: s\n",
            "computer chose p\n",
            "p1 wins!\n",
            "Do you want to play again? Yes\n",
            "rock ... paper ... scissors ... shoot!\n",
            "Player 1 Choose r->rock, p->paper, or s->scissors: r\n",
            "computer chose r\n",
            "Draw\n",
            "Do you want to play again? Nah\n"
          ]
        }
      ]
    }
  ]
}