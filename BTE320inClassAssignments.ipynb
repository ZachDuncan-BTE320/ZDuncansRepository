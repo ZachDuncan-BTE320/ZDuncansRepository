{
  "nbformat": 4,
  "nbformat_minor": 0,
  "metadata": {
    "colab": {
      "provenance": [],
      "authorship_tag": "ABX9TyPsxbBV6gTErzqM9mh1ubTl",
      "include_colab_link": true
    },
    "kernelspec": {
      "name": "python3",
      "display_name": "Python 3"
    },
    "language_info": {
      "name": "python"
    }
  },
  "cells": [
    {
      "cell_type": "markdown",
      "metadata": {
        "id": "view-in-github",
        "colab_type": "text"
      },
      "source": [
        "<a href=\"https://colab.research.google.com/github/ZachDuncan-BTE320/ZDuncansRepository/blob/main/BTE320inClassAssignments.ipynb\" target=\"_parent\"><img src=\"https://colab.research.google.com/assets/colab-badge.svg\" alt=\"Open In Colab\"/></a>"
      ]
    },
    {
      "cell_type": "markdown",
      "source": [
        "Surface Area of a Cylinder"
      ],
      "metadata": {
        "id": "-6W4X-0pmxOq"
      }
    },
    {
      "cell_type": "code",
      "execution_count": null,
      "metadata": {
        "colab": {
          "base_uri": "https://localhost:8080/"
        },
        "id": "efQK3ZNxkdZG",
        "outputId": "97ca1227-9752-439e-e4c1-fb6b23b507a5"
      },
      "outputs": [
        {
          "output_type": "stream",
          "name": "stdout",
          "text": [
            "244.92000000000002\n"
          ]
        }
      ],
      "source": [
        "#calculate surface area of cylinder\n",
        "pi=3.14\n",
        "r=3 #radius\n",
        "h=10 #height\n",
        "\n",
        "#calculation\n",
        "SurfaceArea=2*pi*r**2+2*pi*r*h\n",
        "#print result\n",
        "print(SurfaceArea)"
      ]
    },
    {
      "cell_type": "code",
      "source": [
        "print('rock ... paper ... scissors ... shoot!')\n",
        "p1 = input('Player 1 Choose r->rock, p->paper, or s->scissors: ')\n",
        "p2 = input('Player 2 Choose r->rock, p->paper, or s->scissors: ')\n",
        "\n",
        "if p1 == p2:\n",
        "  print('Draw')\n",
        "elif p1 == 'r' and p2 == 'p':\n",
        "  print('p2 wins!')\n",
        "elif p1 == 'r' and p2 == 's':\n",
        "  print('p1 wins!')\n",
        "elif p1 == 'p' and p2 == 'r':\n",
        "  print('p1 wins!')\n",
        "elif p1 == 'p' and p2 == 's':\n",
        "  print('p2 wins!')\n",
        "elif p1 == 's' and p2 == 'r':\n",
        "  print('p2 wins!')\n",
        "elif p1 == 's' and p2 == 'p':\n",
        "  print('p1 wins!')\n",
        "else:\n",
        "  print('error')\n",
        "\n",
        "\n"
      ],
      "metadata": {
        "colab": {
          "base_uri": "https://localhost:8080/"
        },
        "id": "gh4VbdjmsR5I",
        "outputId": "d8453294-c97e-41d7-cc4b-d38098d15dc4"
      },
      "execution_count": null,
      "outputs": [
        {
          "output_type": "stream",
          "name": "stdout",
          "text": [
            "rock ... paper ... scissors ... shoot!\n",
            "Player 1 Choose r->rock, p->paper, or s->scissors: s\n",
            "Player 2 Choose r->rock, p->paper, or s->scissors: s\n",
            "Draw\n"
          ]
        }
      ]
    },
    {
      "cell_type": "code",
      "source": [
        "x = float(input('Input a number: '))\n",
        "opp = input('Input a Mathematical Operation (+, -, *, /, or **): ')\n",
        "y = float(input('Input a number: '))\n",
        "\n",
        "if opp == '+':\n",
        "  calc = x+y\n",
        "elif opp == '-':\n",
        "  calc = x-y\n",
        "elif opp == '*':\n",
        "  calc = x*y\n",
        "elif opp == '/':\n",
        "  calc = x/y\n",
        "elif opp == '**':\n",
        "  calc = x**y\n",
        "else:\n",
        "  print('Error')\n",
        "\n",
        "print(calc)\n",
        "\n"
      ],
      "metadata": {
        "colab": {
          "base_uri": "https://localhost:8080/"
        },
        "id": "thvloUmL5FiA",
        "outputId": "50699eea-62d4-4dab-b9ee-8289dba1d3f7"
      },
      "execution_count": null,
      "outputs": [
        {
          "output_type": "stream",
          "name": "stdout",
          "text": [
            "Input a number: 5\n",
            "Input a Mathematical Operation (+, -, *, /, or **): **\n",
            "Input a number: 2\n",
            "25.0\n"
          ]
        }
      ]
    },
    {
      "cell_type": "code",
      "source": [
        "play = input('Do you want to play? ')\n",
        "\n",
        "while play == 'Yes':\n",
        "\n",
        "  print('rock ... paper ... scissors ... shoot!')\n",
        "  p1 = input('Player 1 Choose r->rock, p->paper, or s->scissors: ')\n",
        "  p2 = input('Player 2 Choose r->rock, p->paper, or s->scissors: ')\n",
        "\n",
        "  if p1 == p2:\n",
        "    print('Draw')\n",
        "  elif p1 == 'r' and p2 == 'p':\n",
        "    print('p2 wins!')\n",
        "  elif p1 == 'r' and p2 == 's':\n",
        "    print('p1 wins!')\n",
        "  elif p1 == 'p' and p2 == 'r':\n",
        "    print('p1 wins!')\n",
        "  elif p1 == 'p' and p2 == 's':\n",
        "    print('p2 wins!')\n",
        "  elif p1 == 's' and p2 == 'r':\n",
        "    print('p2 wins!')\n",
        "  elif p1 == 's' and p2 == 'p':\n",
        "    print('p1 wins!')\n",
        "  else:\n",
        "    print('error')\n",
        "\n",
        "  play = input('Do you want to play again? ')"
      ],
      "metadata": {
        "colab": {
          "base_uri": "https://localhost:8080/"
        },
        "id": "EcMfdpwezGoe",
        "outputId": "870f27f3-8067-43ff-dbab-49065dc05969"
      },
      "execution_count": null,
      "outputs": [
        {
          "name": "stdout",
          "output_type": "stream",
          "text": [
            "Do you want to play? Yes\n",
            "rock ... paper ... scissors ... shoot!\n",
            "Player 1 Choose r->rock, p->paper, or s->scissors: r\n",
            "Player 2 Choose r->rock, p->paper, or s->scissors: p\n",
            "p2 wins!\n",
            "Do you want to play again? Yes\n",
            "rock ... paper ... scissors ... shoot!\n",
            "Player 1 Choose r->rock, p->paper, or s->scissors: p\n",
            "Player 2 Choose r->rock, p->paper, or s->scissors: s\n",
            "p2 wins!\n",
            "Do you want to play again? Nah\n"
          ]
        }
      ]
    },
    {
      "cell_type": "code",
      "source": [
        "import random\n",
        "\n",
        "play = input('Do you want to play? ')\n",
        "\n",
        "while play == 'Yes':\n",
        "\n",
        "  print('rock ... paper ... scissors ... shoot!')\n",
        "  p1 = input('Player 1 Choose r->rock, p->paper, or s->scissors: ')\n",
        "  computer = random.choice(['r', 'p', 's'])\n",
        "  print(f'computer chose {computer}')\n",
        "\n",
        "  if p1 == computer:\n",
        "    print('Draw')\n",
        "  elif p1 == 'r' and computer == 'p':\n",
        "    print('computer wins!')\n",
        "  elif p1 == 'r' and computer == 's':\n",
        "    print('p1 wins!')\n",
        "  elif p1 == 'p' and computer == 'r':\n",
        "    print('p1 wins!')\n",
        "  elif p1 == 'p' and computer == 's':\n",
        "    print('computer wins!')\n",
        "  elif p1 == 's' and computer == 'r':\n",
        "    print('computer wins!')\n",
        "  elif p1 == 's' and computer == 'p':\n",
        "    print('p1 wins!')\n",
        "  else:\n",
        "    print('error')\n",
        "\n",
        "  play = input('Do you want to play again? ')"
      ],
      "metadata": {
        "colab": {
          "base_uri": "https://localhost:8080/"
        },
        "id": "FIZNNnah2-co",
        "outputId": "f607f776-74be-41be-d485-9c04dd84a763"
      },
      "execution_count": null,
      "outputs": [
        {
          "name": "stdout",
          "output_type": "stream",
          "text": [
            "Do you want to play? Yes\n",
            "rock ... paper ... scissors ... shoot!\n",
            "Player 1 Choose r->rock, p->paper, or s->scissors: r\n",
            "computer chose r\n",
            "Draw\n",
            "Do you want to play again? Yes\n",
            "rock ... paper ... scissors ... shoot!\n",
            "Player 1 Choose r->rock, p->paper, or s->scissors: p\n",
            "computer chose p\n",
            "Draw\n",
            "Do you want to play again? Yes\n",
            "rock ... paper ... scissors ... shoot!\n",
            "Player 1 Choose r->rock, p->paper, or s->scissors: s\n",
            "computer chose r\n",
            "computer wins!\n",
            "Do you want to play again? Yes\n",
            "rock ... paper ... scissors ... shoot!\n",
            "Player 1 Choose r->rock, p->paper, or s->scissors: p\n",
            "computer chose p\n",
            "Draw\n",
            "Do you want to play again? Yes\n",
            "rock ... paper ... scissors ... shoot!\n",
            "Player 1 Choose r->rock, p->paper, or s->scissors: s\n",
            "computer chose p\n",
            "p1 wins!\n",
            "Do you want to play again? Yes\n",
            "rock ... paper ... scissors ... shoot!\n",
            "Player 1 Choose r->rock, p->paper, or s->scissors: r\n",
            "computer chose r\n",
            "Draw\n",
            "Do you want to play again? Nah\n"
          ]
        }
      ]
    },
    {
      "cell_type": "code",
      "source": [
        "for i in range(1,9,1):\n",
        "  if i <= 2:\n",
        "    cost = 10\n",
        "  elif i<=5:\n",
        "    cost = 10+(i-2)*2.5\n",
        "  else:\n",
        "    cost = 20\n",
        "  print(i,' ',cost)"
      ],
      "metadata": {
        "colab": {
          "base_uri": "https://localhost:8080/"
        },
        "id": "E_DVlSb29H5s",
        "outputId": "8c8b1743-6cb3-403d-82d2-0793b3d236f4"
      },
      "execution_count": null,
      "outputs": [
        {
          "output_type": "stream",
          "name": "stdout",
          "text": [
            "1   10\n",
            "2   10\n",
            "3   12.5\n",
            "4   15.0\n",
            "5   17.5\n",
            "6   20\n",
            "7   20\n",
            "8   20\n"
          ]
        }
      ]
    },
    {
      "cell_type": "code",
      "source": [
        "ticketCost = 10\n",
        "attendees = 20\n",
        "fixedCost = 200\n",
        "\n",
        "print('Ad$ Profit')\n",
        "for i in range(0,201,25):\n",
        "  attendees = round(2*i**0.5+20)\n",
        "  profit = ticketCost*attendees-fixedCost-i\n",
        "  print(format(i, '.1f'),' ',format(profit, '.1f'))"
      ],
      "metadata": {
        "colab": {
          "base_uri": "https://localhost:8080/"
        },
        "id": "UyaC3i4oEZL7",
        "outputId": "a5d6993a-3064-41c0-dd40-78f53fe455ae"
      },
      "execution_count": null,
      "outputs": [
        {
          "output_type": "stream",
          "name": "stdout",
          "text": [
            "Ad$ Profit\n",
            "0.0   0.0\n",
            "25.0   75.0\n",
            "50.0   90.0\n",
            "75.0   95.0\n",
            "100.0   100.0\n",
            "125.0   95.0\n",
            "150.0   90.0\n",
            "175.0   85.0\n",
            "200.0   80.0\n"
          ]
        }
      ]
    },
    {
      "cell_type": "code",
      "source": [
        "i = 0\n",
        "\n",
        "while True:\n",
        "  i = i + 1\n",
        "  if i == 10:\n",
        "    break\n",
        "  print(i, end = ' ')\n",
        "print('Done.')"
      ],
      "metadata": {
        "colab": {
          "base_uri": "https://localhost:8080/"
        },
        "id": "E-KihTyYK65S",
        "outputId": "d21be8be-d304-4fcb-bd58-be5a7d6704d7"
      },
      "execution_count": null,
      "outputs": [
        {
          "output_type": "stream",
          "name": "stdout",
          "text": [
            "1 2 3 4 5 6 7 8 9 Done.\n"
          ]
        }
      ]
    },
    {
      "cell_type": "code",
      "source": [
        "l = []\n",
        "item = int(input('Choose a number: '))\n",
        "\n",
        "while item != 0:\n",
        "  l.append(item)\n",
        "  item = int(input('Choose a number: '))\n",
        "\n",
        "l\n"
      ],
      "metadata": {
        "colab": {
          "base_uri": "https://localhost:8080/"
        },
        "id": "kOHJAiOMIwWH",
        "outputId": "c94a3684-4fe0-4fd9-f34f-db1baeeffd93"
      },
      "execution_count": 12,
      "outputs": [
        {
          "name": "stdout",
          "output_type": "stream",
          "text": [
            "Choose a number: 5\n",
            "Choose a number: 10\n",
            "Choose a number: 15\n",
            "Choose a number: 20\n",
            "Choose a number: 1\n",
            "Choose a number: 2\n",
            "Choose a number: 3\n",
            "Choose a number: 4\n",
            "Choose a number: 5\n",
            "Choose a number: -1\n",
            "Choose a number: -2\n",
            "Choose a number: -100\n",
            "Choose a number: 0\n"
          ]
        },
        {
          "output_type": "execute_result",
          "data": {
            "text/plain": [
              "[5, 10, 15, 20, 1, 2, 3, 4, 5, -1, -2, -100]"
            ]
          },
          "metadata": {},
          "execution_count": 12
        }
      ]
    },
    {
      "cell_type": "code",
      "source": [
        "l1 = [1,2,3,4]\n",
        "l2 = [1,2,5,6]\n",
        "\n",
        "for item in l1:\n",
        "  if item in l2:\n",
        "    l1.remove(item)\n",
        "\n",
        "l1\n",
        "#proof that you can't iterate over items in a list and modify the list at the same time without cleating a clone list"
      ],
      "metadata": {
        "colab": {
          "base_uri": "https://localhost:8080/"
        },
        "id": "hnhYeLnhNXxm",
        "outputId": "926a7427-44c1-4590-b032-df8e75d2ef6c"
      },
      "execution_count": 21,
      "outputs": [
        {
          "output_type": "execute_result",
          "data": {
            "text/plain": [
              "[2, 3, 4]"
            ]
          },
          "metadata": {},
          "execution_count": 21
        }
      ]
    },
    {
      "cell_type": "code",
      "source": [
        "l1 = [1,2,3,4]\n",
        "l2 = [1,2,5,6]\n",
        "\n",
        "for item in l1[:]:     # l1[:] is a clone of l1\n",
        "  if item in l2:\n",
        "    l1.remove(item)\n",
        "\n",
        "l1"
      ],
      "metadata": {
        "colab": {
          "base_uri": "https://localhost:8080/"
        },
        "id": "Oibh6eUjOwII",
        "outputId": "fa1f25e2-10ca-4557-f649-b24b49d3fbd4"
      },
      "execution_count": 22,
      "outputs": [
        {
          "output_type": "execute_result",
          "data": {
            "text/plain": [
              "[3, 4]"
            ]
          },
          "metadata": {},
          "execution_count": 22
        }
      ]
    }
  ]
}