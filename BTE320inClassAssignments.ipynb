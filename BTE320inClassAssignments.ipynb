{
  "nbformat": 4,
  "nbformat_minor": 0,
  "metadata": {
    "colab": {
      "provenance": [],
      "authorship_tag": "ABX9TyOz35Ya/rd0HZXR3hLZiMFJ",
      "include_colab_link": true
    },
    "kernelspec": {
      "name": "python3",
      "display_name": "Python 3"
    },
    "language_info": {
      "name": "python"
    }
  },
  "cells": [
    {
      "cell_type": "markdown",
      "metadata": {
        "id": "view-in-github",
        "colab_type": "text"
      },
      "source": [
        "<a href=\"https://colab.research.google.com/github/ZachDuncan-BTE320/ZDuncansRepository/blob/main/BTE320inClassAssignments.ipynb\" target=\"_parent\"><img src=\"https://colab.research.google.com/assets/colab-badge.svg\" alt=\"Open In Colab\"/></a>"
      ]
    },
    {
      "cell_type": "markdown",
      "source": [
        "Surface Area of a Cylinder"
      ],
      "metadata": {
        "id": "-6W4X-0pmxOq"
      }
    },
    {
      "cell_type": "code",
      "execution_count": null,
      "metadata": {
        "colab": {
          "base_uri": "https://localhost:8080/"
        },
        "id": "efQK3ZNxkdZG",
        "outputId": "97ca1227-9752-439e-e4c1-fb6b23b507a5"
      },
      "outputs": [
        {
          "output_type": "stream",
          "name": "stdout",
          "text": [
            "244.92000000000002\n"
          ]
        }
      ],
      "source": [
        "#calculate surface area of cylinder\n",
        "pi=3.14\n",
        "r=3 #radius\n",
        "h=10 #height\n",
        "\n",
        "#calculation\n",
        "SurfaceArea=2*pi*r**2+2*pi*r*h\n",
        "#print result\n",
        "print(SurfaceArea)"
      ]
    },
    {
      "cell_type": "code",
      "source": [
        "print('rock ... paper ... scissors ... shoot!')\n",
        "p1 = input('Player 1 Choose r->rock, p->paper, or s->scissors: ')\n",
        "p2 = input('Player 2 Choose r->rock, p->paper, or s->scissors: ')\n",
        "\n",
        "if p1 == p2:\n",
        "  print('Draw')\n",
        "elif p1 == 'r' and p2 == 'p':\n",
        "  print('p2 wins!')\n",
        "elif p1 == 'r' and p2 == 's':\n",
        "  print('p1 wins!')\n",
        "elif p1 == 'p' and p2 == 'r':\n",
        "  print('p1 wins!')\n",
        "elif p1 == 'p' and p2 == 's':\n",
        "  print('p2 wins!')\n",
        "elif p1 == 's' and p2 == 'r':\n",
        "  print('p2 wins!')\n",
        "elif p1 == 's' and p2 == 'p':\n",
        "  print('p1 wins!')\n",
        "else:\n",
        "  print('error')\n",
        "\n",
        "\n"
      ],
      "metadata": {
        "colab": {
          "base_uri": "https://localhost:8080/"
        },
        "id": "gh4VbdjmsR5I",
        "outputId": "d8453294-c97e-41d7-cc4b-d38098d15dc4"
      },
      "execution_count": null,
      "outputs": [
        {
          "output_type": "stream",
          "name": "stdout",
          "text": [
            "rock ... paper ... scissors ... shoot!\n",
            "Player 1 Choose r->rock, p->paper, or s->scissors: s\n",
            "Player 2 Choose r->rock, p->paper, or s->scissors: s\n",
            "Draw\n"
          ]
        }
      ]
    },
    {
      "cell_type": "code",
      "source": [
        "x = float(input('Input a number: '))\n",
        "opp = input('Input a Mathematical Operation (+, -, *, /, or **): ')\n",
        "y = float(input('Input a number: '))\n",
        "\n",
        "if opp == '+':\n",
        "  calc = x+y\n",
        "elif opp == '-':\n",
        "  calc = x-y\n",
        "elif opp == '*':\n",
        "  calc = x*y\n",
        "elif opp == '/':\n",
        "  calc = x/y\n",
        "elif opp == '**':\n",
        "  calc = x**y\n",
        "else:\n",
        "  print('Error')\n",
        "\n",
        "print(calc)\n",
        "\n"
      ],
      "metadata": {
        "colab": {
          "base_uri": "https://localhost:8080/"
        },
        "id": "thvloUmL5FiA",
        "outputId": "50699eea-62d4-4dab-b9ee-8289dba1d3f7"
      },
      "execution_count": null,
      "outputs": [
        {
          "output_type": "stream",
          "name": "stdout",
          "text": [
            "Input a number: 5\n",
            "Input a Mathematical Operation (+, -, *, /, or **): **\n",
            "Input a number: 2\n",
            "25.0\n"
          ]
        }
      ]
    },
    {
      "cell_type": "code",
      "source": [
        "play = input('Do you want to play? ')\n",
        "\n",
        "while play == 'Yes':\n",
        "\n",
        "  print('rock ... paper ... scissors ... shoot!')\n",
        "  p1 = input('Player 1 Choose r->rock, p->paper, or s->scissors: ')\n",
        "  p2 = input('Player 2 Choose r->rock, p->paper, or s->scissors: ')\n",
        "\n",
        "  if p1 == p2:\n",
        "    print('Draw')\n",
        "  elif p1 == 'r' and p2 == 'p':\n",
        "    print('p2 wins!')\n",
        "  elif p1 == 'r' and p2 == 's':\n",
        "    print('p1 wins!')\n",
        "  elif p1 == 'p' and p2 == 'r':\n",
        "    print('p1 wins!')\n",
        "  elif p1 == 'p' and p2 == 's':\n",
        "    print('p2 wins!')\n",
        "  elif p1 == 's' and p2 == 'r':\n",
        "    print('p2 wins!')\n",
        "  elif p1 == 's' and p2 == 'p':\n",
        "    print('p1 wins!')\n",
        "  else:\n",
        "    print('error')\n",
        "\n",
        "  play = input('Do you want to play again? ')"
      ],
      "metadata": {
        "colab": {
          "base_uri": "https://localhost:8080/"
        },
        "id": "EcMfdpwezGoe",
        "outputId": "870f27f3-8067-43ff-dbab-49065dc05969"
      },
      "execution_count": null,
      "outputs": [
        {
          "name": "stdout",
          "output_type": "stream",
          "text": [
            "Do you want to play? Yes\n",
            "rock ... paper ... scissors ... shoot!\n",
            "Player 1 Choose r->rock, p->paper, or s->scissors: r\n",
            "Player 2 Choose r->rock, p->paper, or s->scissors: p\n",
            "p2 wins!\n",
            "Do you want to play again? Yes\n",
            "rock ... paper ... scissors ... shoot!\n",
            "Player 1 Choose r->rock, p->paper, or s->scissors: p\n",
            "Player 2 Choose r->rock, p->paper, or s->scissors: s\n",
            "p2 wins!\n",
            "Do you want to play again? Nah\n"
          ]
        }
      ]
    },
    {
      "cell_type": "code",
      "source": [
        "import random\n",
        "\n",
        "play = input('Do you want to play? ')\n",
        "\n",
        "while play == 'Yes':\n",
        "\n",
        "  print('rock ... paper ... scissors ... shoot!')\n",
        "  p1 = input('Player 1 Choose r->rock, p->paper, or s->scissors: ')\n",
        "  computer = random.choice(['r', 'p', 's'])\n",
        "  print(f'computer chose {computer}')\n",
        "\n",
        "  if p1 == computer:\n",
        "    print('Draw')\n",
        "  elif p1 == 'r' and computer == 'p':\n",
        "    print('computer wins!')\n",
        "  elif p1 == 'r' and computer == 's':\n",
        "    print('p1 wins!')\n",
        "  elif p1 == 'p' and computer == 'r':\n",
        "    print('p1 wins!')\n",
        "  elif p1 == 'p' and computer == 's':\n",
        "    print('computer wins!')\n",
        "  elif p1 == 's' and computer == 'r':\n",
        "    print('computer wins!')\n",
        "  elif p1 == 's' and computer == 'p':\n",
        "    print('p1 wins!')\n",
        "  else:\n",
        "    print('error')\n",
        "\n",
        "  play = input('Do you want to play again? ')"
      ],
      "metadata": {
        "colab": {
          "base_uri": "https://localhost:8080/"
        },
        "id": "FIZNNnah2-co",
        "outputId": "f607f776-74be-41be-d485-9c04dd84a763"
      },
      "execution_count": null,
      "outputs": [
        {
          "name": "stdout",
          "output_type": "stream",
          "text": [
            "Do you want to play? Yes\n",
            "rock ... paper ... scissors ... shoot!\n",
            "Player 1 Choose r->rock, p->paper, or s->scissors: r\n",
            "computer chose r\n",
            "Draw\n",
            "Do you want to play again? Yes\n",
            "rock ... paper ... scissors ... shoot!\n",
            "Player 1 Choose r->rock, p->paper, or s->scissors: p\n",
            "computer chose p\n",
            "Draw\n",
            "Do you want to play again? Yes\n",
            "rock ... paper ... scissors ... shoot!\n",
            "Player 1 Choose r->rock, p->paper, or s->scissors: s\n",
            "computer chose r\n",
            "computer wins!\n",
            "Do you want to play again? Yes\n",
            "rock ... paper ... scissors ... shoot!\n",
            "Player 1 Choose r->rock, p->paper, or s->scissors: p\n",
            "computer chose p\n",
            "Draw\n",
            "Do you want to play again? Yes\n",
            "rock ... paper ... scissors ... shoot!\n",
            "Player 1 Choose r->rock, p->paper, or s->scissors: s\n",
            "computer chose p\n",
            "p1 wins!\n",
            "Do you want to play again? Yes\n",
            "rock ... paper ... scissors ... shoot!\n",
            "Player 1 Choose r->rock, p->paper, or s->scissors: r\n",
            "computer chose r\n",
            "Draw\n",
            "Do you want to play again? Nah\n"
          ]
        }
      ]
    },
    {
      "cell_type": "code",
      "source": [
        "for i in range(1,9,1):\n",
        "  if i <= 2:\n",
        "    cost = 10\n",
        "  elif i<=5:\n",
        "    cost = 10+(i-2)*2.5\n",
        "  else:\n",
        "    cost = 20\n",
        "  print(i,' ',cost)"
      ],
      "metadata": {
        "colab": {
          "base_uri": "https://localhost:8080/"
        },
        "id": "E_DVlSb29H5s",
        "outputId": "8c8b1743-6cb3-403d-82d2-0793b3d236f4"
      },
      "execution_count": null,
      "outputs": [
        {
          "output_type": "stream",
          "name": "stdout",
          "text": [
            "1   10\n",
            "2   10\n",
            "3   12.5\n",
            "4   15.0\n",
            "5   17.5\n",
            "6   20\n",
            "7   20\n",
            "8   20\n"
          ]
        }
      ]
    },
    {
      "cell_type": "code",
      "source": [
        "ticketCost = 10\n",
        "attendees = 20\n",
        "fixedCost = 200\n",
        "\n",
        "print('Ad$ Profit')\n",
        "for i in range(0,201,25):\n",
        "  attendees = round(2*i**0.5+20)\n",
        "  profit = ticketCost*attendees-fixedCost-i\n",
        "  print(format(i, '.1f'),' ',format(profit, '.1f'))"
      ],
      "metadata": {
        "colab": {
          "base_uri": "https://localhost:8080/"
        },
        "id": "UyaC3i4oEZL7",
        "outputId": "a5d6993a-3064-41c0-dd40-78f53fe455ae"
      },
      "execution_count": null,
      "outputs": [
        {
          "output_type": "stream",
          "name": "stdout",
          "text": [
            "Ad$ Profit\n",
            "0.0   0.0\n",
            "25.0   75.0\n",
            "50.0   90.0\n",
            "75.0   95.0\n",
            "100.0   100.0\n",
            "125.0   95.0\n",
            "150.0   90.0\n",
            "175.0   85.0\n",
            "200.0   80.0\n"
          ]
        }
      ]
    },
    {
      "cell_type": "code",
      "source": [
        "i = 0\n",
        "\n",
        "while True:\n",
        "  i = i + 1\n",
        "  if i == 10:\n",
        "    break\n",
        "  print(i, end = ' ')\n",
        "print('Done.')"
      ],
      "metadata": {
        "colab": {
          "base_uri": "https://localhost:8080/"
        },
        "id": "E-KihTyYK65S",
        "outputId": "d21be8be-d304-4fcb-bd58-be5a7d6704d7"
      },
      "execution_count": null,
      "outputs": [
        {
          "output_type": "stream",
          "name": "stdout",
          "text": [
            "1 2 3 4 5 6 7 8 9 Done.\n"
          ]
        }
      ]
    },
    {
      "cell_type": "code",
      "source": [
        "l = []\n",
        "item = int(input('Choose a number: '))\n",
        "\n",
        "while item != 0:\n",
        "  l.append(item)\n",
        "  item = int(input('Choose a number: '))\n",
        "\n",
        "l\n"
      ],
      "metadata": {
        "colab": {
          "base_uri": "https://localhost:8080/"
        },
        "id": "kOHJAiOMIwWH",
        "outputId": "c94a3684-4fe0-4fd9-f34f-db1baeeffd93"
      },
      "execution_count": null,
      "outputs": [
        {
          "name": "stdout",
          "output_type": "stream",
          "text": [
            "Choose a number: 5\n",
            "Choose a number: 10\n",
            "Choose a number: 15\n",
            "Choose a number: 20\n",
            "Choose a number: 1\n",
            "Choose a number: 2\n",
            "Choose a number: 3\n",
            "Choose a number: 4\n",
            "Choose a number: 5\n",
            "Choose a number: -1\n",
            "Choose a number: -2\n",
            "Choose a number: -100\n",
            "Choose a number: 0\n"
          ]
        },
        {
          "output_type": "execute_result",
          "data": {
            "text/plain": [
              "[5, 10, 15, 20, 1, 2, 3, 4, 5, -1, -2, -100]"
            ]
          },
          "metadata": {},
          "execution_count": 12
        }
      ]
    },
    {
      "cell_type": "code",
      "source": [
        "l1 = [1,2,3,4]\n",
        "l2 = [1,2,5,6]\n",
        "\n",
        "for item in l1:\n",
        "  if item in l2:\n",
        "    l1.remove(item)\n",
        "\n",
        "l1\n",
        "#proof that you can't iterate over items in a list and modify the list at the same time without cleating a clone list"
      ],
      "metadata": {
        "colab": {
          "base_uri": "https://localhost:8080/"
        },
        "id": "hnhYeLnhNXxm",
        "outputId": "926a7427-44c1-4590-b032-df8e75d2ef6c"
      },
      "execution_count": null,
      "outputs": [
        {
          "output_type": "execute_result",
          "data": {
            "text/plain": [
              "[2, 3, 4]"
            ]
          },
          "metadata": {},
          "execution_count": 21
        }
      ]
    },
    {
      "cell_type": "code",
      "source": [
        "l1 = [1,2,3,4]\n",
        "l2 = [1,2,5,6]\n",
        "\n",
        "for item in l1[:]:     # l1[:] is a clone of l1\n",
        "  if item in l2:\n",
        "    l1.remove(item)\n",
        "\n",
        "l1"
      ],
      "metadata": {
        "colab": {
          "base_uri": "https://localhost:8080/"
        },
        "id": "Oibh6eUjOwII",
        "outputId": "fa1f25e2-10ca-4557-f649-b24b49d3fbd4"
      },
      "execution_count": null,
      "outputs": [
        {
          "output_type": "execute_result",
          "data": {
            "text/plain": [
              "[3, 4]"
            ]
          },
          "metadata": {},
          "execution_count": 22
        }
      ]
    },
    {
      "cell_type": "code",
      "source": [
        "months = {}\n",
        "\n",
        "names = [\"Jan\", \"Feb\", \"Mar\", \"Apr\", \"May\", \"Jun\", \"Jul\", \"Aug\", \"Sep\", \"Oct\", \"Nov\", \"Dec\"]\n",
        "numbers = [1,2,3,4,5,6,7,8,9,10,11,12]\n",
        "\n",
        "for i in range(len(numbers)):\n",
        "  months[numbers[i]] = names[i]\n",
        "\n",
        "months"
      ],
      "metadata": {
        "colab": {
          "base_uri": "https://localhost:8080/"
        },
        "id": "s-qxEecd43fV",
        "outputId": "20d681f9-1b24-4514-f36c-f2a6c2adb381"
      },
      "execution_count": null,
      "outputs": [
        {
          "output_type": "execute_result",
          "data": {
            "text/plain": [
              "{1: 'Jan',\n",
              " 2: 'Feb',\n",
              " 3: 'Mar',\n",
              " 4: 'Apr',\n",
              " 5: 'May',\n",
              " 6: 'Jun',\n",
              " 7: 'Jul',\n",
              " 8: 'Aug',\n",
              " 9: 'Sep',\n",
              " 10: 'Oct',\n",
              " 11: 'Nov',\n",
              " 12: 'Dec'}"
            ]
          },
          "metadata": {},
          "execution_count": 3
        }
      ]
    },
    {
      "cell_type": "code",
      "source": [
        "total_cost = float(input('What is the cost of your dream home: '))\n",
        "annual_salary = float(input('What is your annual salary: '))\n",
        "portion_saved = float(input('What percent of your salary do you plan to save (in decimal form): '))\n",
        "portion_down_payment = 0.25\n",
        "down_payment = total_cost*portion_down_payment\n",
        "r = 0.04\n",
        "monthly_r = r/12\n",
        "monthly_salary = annual_salary/12\n",
        "monthly_contribution = monthly_salary*portion_saved\n",
        "n=0\n",
        "current_savings = 0\n",
        "\n",
        "n=1\n",
        "while current_savings < down_payment:\n",
        "  n=n+1\n",
        "  current_savings = (monthly_contribution*((((1 + monthly_r)**n) - 1) / monthly_r))*(1 + monthly_r)\n",
        "print('Number of Months = ', n)\n"
      ],
      "metadata": {
        "id": "9Fl4XCtUEPIj",
        "colab": {
          "base_uri": "https://localhost:8080/"
        },
        "outputId": "e07ea7f8-017e-4a17-c225-793da7370041"
      },
      "execution_count": null,
      "outputs": [
        {
          "output_type": "stream",
          "name": "stdout",
          "text": [
            "What is the cost of your dream home: 1000000\n",
            "What is your annual salary: 100000\n",
            "What percent of your salary do you plan to save (in decimal form): 0.1\n",
            "Number of Months =  208\n"
          ]
        }
      ]
    },
    {
      "cell_type": "code",
      "source": [
        "total_cost = float(input('What is the cost of your dream home: '))\n",
        "annual_salary = float(input('What is your annual salary: '))\n",
        "portion_saved = float(input('What percent of your salary do you plan to save (in decimal form): '))\n",
        "semi_annual_raise = float(input('What how much do you expect your salary to increase every 2 years? (in decimal form): '))\n",
        "portion_down_payment = 0.25\n",
        "down_payment = total_cost*portion_down_payment\n",
        "r = 0.04\n",
        "monthly_r = r/12\n",
        "monthly_salary = annual_salary/12\n",
        "monthly_contribution = monthly_salary*portion_saved\n",
        "n=0\n",
        "current_savings = 0\n",
        "\n",
        "n=0\n",
        "while current_savings < down_payment:\n",
        "  n=n+1\n",
        "  if n%6 == 0:\n",
        "    monthly_salary = monthly_salary*(1+semi_annual_raise)\n",
        "  monthly_contribution = monthly_salary*portion_saved\n",
        "  current_savings = (monthly_contribution*((((1 + monthly_r)**n) - 1) / monthly_r))*(1 + monthly_r)\n",
        "print('Number of Months = ', n)"
      ],
      "metadata": {
        "colab": {
          "base_uri": "https://localhost:8080/"
        },
        "id": "ahk2aXKXMVyF",
        "outputId": "46f94f18-ab1d-455f-817c-7a54acb91f57"
      },
      "execution_count": null,
      "outputs": [
        {
          "output_type": "stream",
          "name": "stdout",
          "text": [
            "What is the cost of your dream home: 1000000\n",
            "What is your annual salary: 100000\n",
            "What percent of your salary do you plan to save (in decimal form): 0.1\n",
            "What how much do you expect your salary to increase every 2 years? (in decimal form): 0.1\n",
            "Number of Months =  78\n"
          ]
        }
      ]
    },
    {
      "cell_type": "code",
      "source": [
        "def check_range(a, low, high):\n",
        "  if a >= low and a <= high:\n",
        "    return 'In Range'\n",
        "  else:\n",
        "    return 'Out of Range'\n",
        "\n",
        "x = float(input('Give any number: '))\n",
        "l = float(input('Set the low end of your range: '))\n",
        "h = float(input('Set the high end of your range: '))\n",
        "print(check_range(x,l,h))"
      ],
      "metadata": {
        "colab": {
          "base_uri": "https://localhost:8080/"
        },
        "id": "BjAAKR0mQh4W",
        "outputId": "f9d15b83-524b-4085-b48a-be994cd412cd"
      },
      "execution_count": null,
      "outputs": [
        {
          "output_type": "stream",
          "name": "stdout",
          "text": [
            "Give any number: 5\n",
            "Set the low end of your range: 0\n",
            "Set the high end of your range: 10\n",
            "In Range\n"
          ]
        }
      ]
    },
    {
      "cell_type": "code",
      "source": [
        "def calcFee(hours, decimals = 2):\n",
        "  return round(5 + hours*2.5, decimals)\n",
        "def displayFee(fee):\n",
        "  print('Parking fee: $', fee, sep = '')\n",
        "\n",
        "hours = float(input('Number of hours parked: '))\n",
        "displayFee(calcFee(hours))"
      ],
      "metadata": {
        "colab": {
          "base_uri": "https://localhost:8080/"
        },
        "id": "RVLbrAV59cA-",
        "outputId": "e3a96c03-794a-4b09-f187-06e07e7aed4b"
      },
      "execution_count": null,
      "outputs": [
        {
          "output_type": "stream",
          "name": "stdout",
          "text": [
            "Number of hours parked: 5\n",
            "Parking fee: $17.5\n"
          ]
        }
      ]
    },
    {
      "cell_type": "code",
      "source": [
        "def reverse(s):\n",
        "  if len(s) > 1:\n",
        "    print(s[len(s)-1], end='')\n",
        "    reverse(s[0:len(s)-1])\n",
        "  else:\n",
        "    print(s, end='')\n",
        "\n",
        "word = input('Enter any word: ')\n",
        "print('Reverse: ', end=' ')\n",
        "reverse(word)"
      ],
      "metadata": {
        "id": "R555C3LGHP75",
        "colab": {
          "base_uri": "https://localhost:8080/"
        },
        "outputId": "e786bc6c-9a00-4cf9-89dd-29e9fdf1f036"
      },
      "execution_count": null,
      "outputs": [
        {
          "output_type": "stream",
          "name": "stdout",
          "text": [
            "Enter any word: Hello\n",
            "Reverse:  olleH"
          ]
        }
      ]
    },
    {
      "cell_type": "code",
      "source": [
        "def wAvg(L, w):\n",
        "  try:\n",
        "    res = []\n",
        "    for i in range(len(L)):\n",
        "      try:\n",
        "        res.append(L[i] * w[i])\n",
        "      except:\n",
        "        print('The number of weights does not match the length of your list')\n",
        "        return []\n",
        "    return sum(res) / sum(w)\n",
        "  except ZeroDivisionError:\n",
        "    print('Divided by zero')\n",
        "    return []\n",
        "  except TypeError:\n",
        "    print('Non-numerical object(s) found')\n",
        "    return []\n",
        "  except Exception as e:\n",
        "    print(f'Unknown error: {e}')\n",
        "    return float(nan)\n",
        "\n",
        "\n",
        "List = [1,2,3,4]\n",
        "weight = [4,3,2,1]\n",
        "print(f'Your weighted average is: {wAvg(List, weight)}')"
      ],
      "metadata": {
        "colab": {
          "base_uri": "https://localhost:8080/"
        },
        "id": "LzeQ2oobgFL3",
        "outputId": "6e0e9ba1-581e-4cb0-ccf9-1d30cd6517fe"
      },
      "execution_count": null,
      "outputs": [
        {
          "output_type": "stream",
          "name": "stdout",
          "text": [
            "Your weighted average is: 2.0\n"
          ]
        }
      ]
    },
    {
      "cell_type": "code",
      "source": [
        "class Student:\n",
        "  def __init__(self, name, number):\n",
        "    self.name = name\n",
        "    self.number = number"
      ],
      "metadata": {
        "id": "us7xEigWYwOh"
      },
      "execution_count": 9,
      "outputs": []
    },
    {
      "cell_type": "code",
      "source": [
        "j = Student('James Bond', '007')\n",
        "c = Student('Clark Kent', '333')"
      ],
      "metadata": {
        "id": "hH91_c_CZFmB"
      },
      "execution_count": 11,
      "outputs": []
    },
    {
      "cell_type": "code",
      "source": [
        "j.name"
      ],
      "metadata": {
        "colab": {
          "base_uri": "https://localhost:8080/",
          "height": 36
        },
        "id": "_tvaxzHBaBoJ",
        "outputId": "7bf253b8-ec1f-4ab7-f7e2-e29799d49b9a"
      },
      "execution_count": 13,
      "outputs": [
        {
          "output_type": "execute_result",
          "data": {
            "text/plain": [
              "'James Bond'"
            ],
            "application/vnd.google.colaboratory.intrinsic+json": {
              "type": "string"
            }
          },
          "metadata": {},
          "execution_count": 13
        }
      ]
    },
    {
      "cell_type": "code",
      "source": [
        "j.number"
      ],
      "metadata": {
        "colab": {
          "base_uri": "https://localhost:8080/",
          "height": 36
        },
        "id": "8a_jrV05aESr",
        "outputId": "32fbcfe4-1b20-4b7a-8356-7981fa4e1ed7"
      },
      "execution_count": 14,
      "outputs": [
        {
          "output_type": "execute_result",
          "data": {
            "text/plain": [
              "'007'"
            ],
            "application/vnd.google.colaboratory.intrinsic+json": {
              "type": "string"
            }
          },
          "metadata": {},
          "execution_count": 14
        }
      ]
    }
  ]
}